{
 "cells": [
  {
   "cell_type": "markdown",
   "metadata": {},
   "source": [
    "# Session 2"
   ]
  },
  {
   "cell_type": "markdown",
   "metadata": {},
   "source": [
    "## Hypothesis Testing"
   ]
  },
  {
   "cell_type": "markdown",
   "metadata": {},
   "source": [
    "One important reason we conduct data analysis is to examine our conjectures about how the world or some system operates.  This may be done explicitly using hypothesis testing or done implicitly when we develop of a statistical model for estimation and prediction.  Implicit in the prediction model is a hypothesis about the stability of relationships through time or through space.  "
   ]
  },
  {
   "cell_type": "markdown",
   "metadata": {},
   "source": [
    "There is a formalized way to conduct hypothesis testing: a data scientist lays out a conjecture about a system in a formal manner, namely a mutually exclusive and contradictory statement about the value of some parameter from a statistical model that characterizes the conjecture. "
   ]
  },
  {
   "cell_type": "markdown",
   "metadata": {},
   "source": [
    "A statistical hypothesis is a claim either about the value of a single population characteristic or about the values of several population characteristics."
   ]
  },
  {
   "cell_type": "markdown",
   "metadata": {},
   "source": [
    "## Canonical Example"
   ]
  },
  {
   "cell_type": "markdown",
   "metadata": {},
   "source": [
    "A canonical example of hypothesis testing is a criminal trial in the **US justice system**.  The hypothesis examined by a jury is one of **'not guilty'** versus **'guilty'**.  Formally, the null hypothesis the jury uses is 'not guilty', and the alternative hypothesis is \"guilty\".  Only in the face of considerable evidence is the jury to move from the position 'not guilty' to 'guilty'.  When thinking about hypothesis testing, it is useful to keep this example in mind. \n",
    "\n",
    "In hypothesis testing, a data scientist formulates the basic proposition in a manner that one claim is initially favored (not guilty) and is rejected only in the face of sample evidence to the contrary (guilty).  The initially-favored claim is typically called the **null hypothesis**, and a data scientist rejects a null hypothesis in favor of the alternative hypothesis only in the face of **considerable evidence** to the contrary.  Otherwise, a data scientist is said to **'fail to reject'** the null hypothesis.\n",
    "\n",
    "We can write these hypotheses formally as:\n",
    "\n",
    "$H_0$: Not guilty\n",
    "\n",
    "$H_1$: Guilty\n",
    "\n",
    "The jury maintains $H_0$ at the start of the trial.  During the trial, the state (as prosecution) presents evidence to the jury that is meant to change their maintained hypothesis.  It is only in the presence of overwhelming evidence that the jury moves from $H_0$ to $H_1$.  The absence of such evidence, however, does not prompt the jury to drop their maintained hypothesis of 'not guilty'. "
   ]
  },
  {
   "cell_type": "markdown",
   "metadata": {},
   "source": [
    "## Two Ingredients and Two Possible Types of Error"
   ]
  },
  {
   "cell_type": "markdown",
   "metadata": {},
   "source": [
    "### Ingredients\n",
    "1. A **test statistic** of some type that is only the **function of sample data**.  This could be the mean value of a data series, for example.\n",
    "2. A **rejection region** that is based on a probability value, $\\alpha$, which is a set of values for the test statistic for which $H_0$ will be rejected.  "
   ]
  },
  {
   "cell_type": "markdown",
   "metadata": {},
   "source": [
    "Often we write the test statistic as $\\hat\\theta$, which is a function only of actual data representing some population characteristic, $\\theta$.  As an example, the test statistic may be an average of some data, such as the average value of $x_1$ from our simulated data.  In this case, $\\hat\\theta=\\frac{1}{n}\\sum_i{x_i}$\n",
    "\n",
    "Frequently, we are testing against of conjecture of 0.  For example,\n",
    "\n",
    "$H_0$: $\\theta=0$\n",
    "\n",
    "$H_1$: $\\theta\\neq0$"
   ]
  },
  {
   "cell_type": "markdown",
   "metadata": {},
   "source": [
    "### Potential Errors"
   ]
  },
  {
   "cell_type": "markdown",
   "metadata": {},
   "source": [
    "There is the truth, **that you do not know**, and the decision **that you must make**.  Accordingly, there are two types of possible error.\n",
    "\n",
    "Type 1 Error: Rejecting $H_0$ when it is, **in fact**, true.\n",
    "\n",
    "Type 2 Error: Failing to reject $H_0$ when it is, **in fact**, false."
   ]
  },
  {
   "cell_type": "markdown",
   "metadata": {},
   "source": [
    "#### Notes\n",
    "* Tabulate is not native to Anaconda.\n",
    "* pip install tabulate."
   ]
  },
  {
   "cell_type": "code",
   "execution_count": 8,
   "metadata": {},
   "outputs": [
    {
     "name": "stdout",
     "output_type": "stream",
     "text": [
      "╒═══════════╤══════════════╤══════════════╕\n",
      "│ H0 is:    │              │              │\n",
      "├───────────┼──────────────┼──────────────┤\n",
      "│           │ True         │ False        │\n",
      "├───────────┼──────────────┼──────────────┤\n",
      "│ Reject H0 │ Type 1 error │ Correct      │\n",
      "├───────────┼──────────────┼──────────────┤\n",
      "│ Reject H1 │ Correct      │ Type 2 error │\n",
      "╘═══════════╧══════════════╧══════════════╛\n"
     ]
    }
   ],
   "source": [
    "from tabulate import tabulate\n",
    "\n",
    "table = [[\"H0 is:\", \" \", \"  \"],\n",
    "         [\"\", \"True\", \"False\"],\n",
    "         [\"Reject H0\", \"Type 1 error\", \"Correct\"],\n",
    "         [\"Reject H1\", \"Correct\", \"Type 2 error\",]]\n",
    "print(tabulate(table, tablefmt=\"fancy_grid\", numalign=\"center\"))"
   ]
  },
  {
   "cell_type": "markdown",
   "metadata": {},
   "source": [
    "In classical hypothesis testing, Pr(Type 1 error) $= \\alpha$.  Typically we use a standard $\\alpha$ = 0.05.  \n",
    "\n",
    "There is some evidence to suggest it should be much lower, say 0.01.  Why?  Let's discuss."
   ]
  },
  {
   "cell_type": "markdown",
   "metadata": {},
   "source": [
    "From the **Central Limit Theorem**, we know that test statistics, $\\hat\\theta$'s, are asymptotically distributed normal with a finite, non-zero variance (discussed below).  Therefore, the normal distribution identifies our rejection regions.  When testing, we \"z-normalize\" the test statistic.  Namely,\n",
    "\n",
    "$H_0$ : $\\theta=\\theta_0$\n",
    "\n",
    "$H_1$ : $\\theta\\neq\\theta_0$\n",
    "\n",
    "Z-normalized or t-stat: $\\displaystyle{\\frac{\\hat\\theta-\\theta_0}{SE(\\hat\\theta)}}$\n",
    "\n",
    "When\n",
    "\n",
    "$H_0$ : $\\theta=0$\n",
    "\n",
    "$H_1$ : $\\theta\\neq0$\n",
    "\n",
    "Z-normalized or t-stat: $\\displaystyle{\\frac{\\hat\\theta}{SE(\\hat\\theta)}}$"
   ]
  },
  {
   "cell_type": "code",
   "execution_count": 9,
   "metadata": {},
   "outputs": [
    {
     "name": "stdout",
     "output_type": "stream",
     "text": [
      "Populating the interactive namespace from numpy and matplotlib\n"
     ]
    }
   ],
   "source": [
    "%pylab inline\n",
    "import numpy as np\n",
    "import matplotlib.pyplot as plt\n",
    "import seaborn as sns\n",
    "sns.set(context='notebook', style='whitegrid', palette='deep', font='sans-serif', font_scale=1, rc=None)\n",
    "import warnings\n",
    "warnings.filterwarnings(\"ignore\")"
   ]
  },
  {
   "cell_type": "code",
   "execution_count": 10,
   "metadata": {},
   "outputs": [],
   "source": [
    "x = np.linspace(-3, 3, 1000)\n",
    "pdf = np.exp(-0.5*x**2)/np.sqrt(2*np.pi)"
   ]
  },
  {
   "cell_type": "code",
   "execution_count": 3,
   "metadata": {},
   "outputs": [
    {
     "data": {
      "text/plain": [
       "<matplotlib.lines.Line2D at 0x1a217964e0>"
      ]
     },
     "execution_count": 3,
     "metadata": {},
     "output_type": "execute_result"
    },
    {
     "data": {
      "image/png": "[encoded data removed]",
      "text/plain": [
       "<Figure size 576x432 with 1 Axes>"
      ]
     },
     "metadata": {
      "needs_background": "light"
     },
     "output_type": "display_data"
    }
   ],
   "source": [
    "plt.figure(figsize = (8, 6))\n",
    "plt.plot(x, pdf, 'b')\n",
    "plt.xlabel('Support', fontsize = 16)\n",
    "plt.ylabel('Probability', fontsize = 16)\n",
    "plt.ylim((0,.5))\n",
    "plt.title(r'Rejection Regions for $\\alpha=0.05$', fontsize = 20)\n",
    "plt.axvline(-1.96, color='r', ls='--', lw=2.0)\n",
    "plt.axvline(1.96, color='r', ls='--', lw=2.0)"
   ]
  },
  {
   "cell_type": "code",
   "execution_count": 11,
   "metadata": {},
   "outputs": [
    {
     "data": {
      "text/plain": [
       "<matplotlib.lines.Line2D at 0x1a22902390>"
      ]
     },
     "execution_count": 11,
     "metadata": {},
     "output_type": "execute_result"
    },
    {
     "data": {
      "image/png": "[encoded data removed]",
      "text/plain": [
       "<Figure size 576x432 with 1 Axes>"
      ]
     },
     "metadata": {},
     "output_type": "display_data"
    }
   ],
   "source": [
    "plt.figure(figsize = (8, 6))\n",
    "plt.plot(x, pdf, 'b')\n",
    "plt.xlabel('Support', fontsize = 16)\n",
    "plt.ylabel('Probability', fontsize = 16)\n",
    "plt.ylim((0,.5))\n",
    "plt.title(r'Rejection Regions for $\\alpha=0.01$', fontsize = 20)\n",
    "plt.axvline(-2.33, color='r', ls='--', lw=2.0)\n",
    "plt.axvline(2.33, color='r', ls='--', lw=2.0)"
   ]
  },
  {
   "cell_type": "markdown",
   "metadata": {},
   "source": [
    "### Equivalent Statements\n",
    "\n",
    "Consider the following general hypothesis formulation.  \n",
    "\n",
    "$H_0$ : $\\theta=\\theta_0$\n",
    "\n",
    "$H_1$ : $\\theta\\neq\\theta_0$\n",
    "\n",
    "Let $SE(\\hat\\theta)$ denote the standard error of the point estimate of $\\theta$.  These are equivalent statements.\n",
    "\n",
    "1.  $\\displaystyle{\\frac{\\hat\\theta-\\theta_0}{SE(\\hat\\theta)}}>\\vert1.96\\vert$ implies a rejection of $H_0$ at a 95% level of confidence.  \n",
    "2. $\\big\\vert$t-stat$\\big\\vert$ in excess of 1.96 implies $\\hat\\theta$ is statistically different than $\\theta_0$.  (Rule of thumb, greater than 2 in absolute value.)\n",
    "3. $\\hat\\theta\\pm 1.96\\cdot SE(\\hat\\theta)$ constitutes at 95% confidence interval around $\\hat\\theta$.  If this interval includes $\\theta_0$, fail to reject $H_0$.\n",
    "\n",
    "\n",
    "#### Basic Rule of Thumb:\n",
    "* If $H_0: \\theta_0=0$, the basic rule of thumb is: reject $H_0$ if a 95% confidence interval includes zero.  Otherwise, do not reject $H_0$."
   ]
  },
  {
   "cell_type": "markdown",
   "metadata": {},
   "source": [
    "### In practice, we let the computer do the heavy lifting.\n",
    "\n",
    "Let's do several 'toy' examples of testing an average value against a null of zero.\n",
    "\n",
    "Sample size is $n$.  Standard error of $\\mu$ is $\\frac{\\sigma}{\\sqrt{n}}$.\n",
    "\n",
    "$H_0$ : $\\mu=0$\n",
    "\n",
    "$H_1$ : $\\mu\\neq0$\n",
    "\n",
    "#### Notes\n",
    "* Use a DGP that is Gaussian.\n",
    "* In turn, use alternative DGPs to examine the principle of hypothesis testing.\n",
    "* We will examine what happens as we increase the sample size."
   ]
  },
  {
   "cell_type": "code",
   "execution_count": 5,
   "metadata": {},
   "outputs": [
    {
     "name": "stdout",
     "output_type": "stream",
     "text": [
      "The mean is 0.179928\n",
      "The standard error is 0.239459\n",
      "The t-statistic is 0.751396\n",
      "The confidence interval is -0.289411 and 0.649268\n"
     ]
    }
   ],
   "source": [
    "n = 10\n",
    "\n",
    "random.seed(1999)\n",
    "normal = np.random.normal(0, 1, n)\n",
    "print(\"The mean is %f\" % normal.mean())\n",
    "print(\"The standard error is %f\" % (normal.std()/np.sqrt(n)))\n",
    "print(\"The t-statistic is %f\" % (normal.mean()/(normal.std()/np.sqrt(n)))) \n",
    "print(\"The confidence interval is %f and %f\" % ((normal.mean()-1.96*(normal.std()/np.sqrt(n))), \n",
    "      ((normal.mean()+1.96*normal.std()/np.sqrt(n)))))"
   ]
  },
  {
   "cell_type": "code",
   "execution_count": 6,
   "metadata": {},
   "outputs": [
    {
     "name": "stdout",
     "output_type": "stream",
     "text": [
      "The mean is 1.899642\n",
      "The standard error is 1.197294\n",
      "The t-statistic is 1.586612\n",
      "The confidence interval is -0.447055 and 4.246338\n"
     ]
    }
   ],
   "source": [
    "n = 10\n",
    "\n",
    "random.seed(1999)\n",
    "normal = np.random.normal(1, 5, n)\n",
    "print(\"The mean is %f\" % normal.mean())\n",
    "print(\"The standard error is %f\" % (normal.std()/np.sqrt(n)))\n",
    "print(\"The t-statistic is %f\" % (normal.mean()/(normal.std()/np.sqrt(n)))) \n",
    "print(\"The confidence interval is %f and %f\" % ((normal.mean()-1.96*(normal.std()/np.sqrt(n))), \n",
    "      ((normal.mean()+1.96*normal.std()/np.sqrt(n)))))"
   ]
  },
  {
   "cell_type": "code",
   "execution_count": 7,
   "metadata": {},
   "outputs": [
    {
     "name": "stdout",
     "output_type": "stream",
     "text": [
      "The mean is 3.179928\n",
      "The standard error is 0.239459\n",
      "The t-statistic is 13.279646\n",
      "The confidence interval is 2.710589 and 3.649268\n"
     ]
    }
   ],
   "source": [
    "n = 10\n",
    "\n",
    "random.seed(1999)\n",
    "normal = np.random.normal(3, 1, n)\n",
    "print(\"The mean is %f\" % normal.mean())\n",
    "print(\"The standard error is %f\" % (normal.std()/np.sqrt(n)))\n",
    "print(\"The t-statistic is %f\" % (normal.mean()/(normal.std()/np.sqrt(n)))) \n",
    "print(\"The confidence interval is %f and %f\" % ((normal.mean()-1.96*(normal.std()/np.sqrt(n))), \n",
    "      ((normal.mean()+1.96*normal.std()/np.sqrt(n)))))"
   ]
  },
  {
   "cell_type": "markdown",
   "metadata": {},
   "source": [
    "### Equivalent Statements (Again)\n",
    "\n",
    "Consider the following general hypothesis formulation.  \n",
    "\n",
    "$H_0$ : $\\theta=\\theta_0$\n",
    "\n",
    "$H_1$ : $\\theta\\neq\\theta_0$\n",
    "\n",
    "Let $SE(\\hat\\theta)$ denote the standard error of the point estimate of $\\theta$.  These are equivalent statements.\n",
    "\n",
    "1.  $\\displaystyle{\\frac{\\hat\\theta-\\theta_0}{SE(\\hat\\theta)}}>\\vert1.96\\vert$ implies a rejection of $H_0$ at a 95% level of confidence.  \n",
    "2. $\\big\\vert$t-stat$\\big\\vert$ in excess of 1.96 implies $\\hat\\theta$ is statistically different than $\\theta_0$.  (Rule of thumb, greater than 2 in absolute value.)\n",
    "3. $\\hat\\theta\\pm 1.96\\cdot SE(\\hat\\theta)$ constitutes at 95% confidence interval around $\\hat\\theta$.  If this interval includes $\\theta_0$, fail to reject $H_0$."
   ]
  },
  {
   "cell_type": "markdown",
   "metadata": {},
   "source": [
    "### The Central Limit Theorem: Why We Test Again the Normal\n",
    "\n",
    "Start with a small number of replications and increase the number of replications.  This is called \"Monte Carlo\" simulation used in the place of a mathematical proof.\n",
    "\n",
    "You will see the normal distribution emerge.\n",
    "\n",
    "#### This is not dependent on how we generate our samples.\n",
    "\n",
    "#### Notes\n",
    "* We draw at random from a number of distributions 100 times and calculate the average of these 100 draws.\n",
    "* We do this 500 times.\n",
    "* Then 1,000 times.\n",
    "* Then 5,000 times.\n",
    "* Then 10,000 times.\n",
    "* Then 100,000 times.\n",
    "* Then 1,000,000 times.\n",
    "* Observe how the histogram becomes the normal distribution."
   ]
  },
  {
   "cell_type": "code",
   "execution_count": null,
   "metadata": {},
   "outputs": [],
   "source": [
    "reps = 500\n",
    "theta = np.zeros(reps)\n",
    "if reps <= 10000:\n",
    "    bins = int(reps/100)\n",
    "else:\n",
    "    bins = int(reps/10000)\n",
    "\n",
    "for i in range(1, reps):\n",
    "    theta[i] = random.normal(0, 5, 100).mean()\n",
    "\n",
    "plt.figure(figsize = (8, 6))\n",
    "plt.hist(theta, color='blue', density=True, bins=bins)\n",
    "plt.title('Visualizing the Central Limit Theorem', fontsize = 20)\n",
    "plt.xlabel('Support', fontsize = 16)\n",
    "plt.ylabel('Probability', fontsize = 16)"
   ]
  },
  {
   "cell_type": "markdown",
   "metadata": {},
   "source": [
    "#### Notes: Not affected by variance of Gaussian DGP"
   ]
  },
  {
   "cell_type": "code",
   "execution_count": null,
   "metadata": {},
   "outputs": [],
   "source": [
    "reps = 500\n",
    "theta = np.zeros(reps)\n",
    "if reps <= 10000:\n",
    "    bins = int(reps/100)\n",
    "else:\n",
    "    bins = int(reps/10000)\n",
    "\n",
    "for i in range(1, reps):\n",
    "    theta[i] = random.normal(0, 10, 100).mean()\n",
    "\n",
    "plt.figure(figsize = (8, 6))\n",
    "plt.hist(theta, color='blue', density=True, bins=bins)\n",
    "plt.xlim(-3, 3)\n",
    "plt.ylim(0, 0.5)\n",
    "plt.title('Visualizing the Central Limit Theorem', fontsize = 20)\n",
    "plt.xlabel('Support', fontsize = 16)\n",
    "plt.ylabel('Probability', fontsize = 16)"
   ]
  },
  {
   "cell_type": "markdown",
   "metadata": {},
   "source": [
    "#### Notes: Not affected by DGP"
   ]
  },
  {
   "cell_type": "code",
   "execution_count": null,
   "metadata": {},
   "outputs": [],
   "source": [
    "reps = 500\n",
    "theta = np.zeros(reps)\n",
    "if reps <= 10000:\n",
    "    bins = int(reps/100)\n",
    "else:\n",
    "    bins = int(reps/10000)\n",
    "\n",
    "for i in range(1, reps):\n",
    "    theta[i] = random.logistic(0, 5, 100).mean()\n",
    "\n",
    "plt.figure(figsize = (8, 6))\n",
    "plt.hist(theta, color='blue', density=True, bins=bins)\n",
    "#plt.xlim(-3, 3)\n",
    "#plt.ylim(0, 0.5)\n",
    "plt.title('Visualizing the Central Limit Theorem', fontsize = 20)\n",
    "plt.xlabel('Support', fontsize = 16)\n",
    "plt.ylabel('Probability', fontsize = 16)"
   ]
  },
  {
   "cell_type": "code",
   "execution_count": null,
   "metadata": {},
   "outputs": [],
   "source": [
    "reps = 500\n",
    "theta = np.zeros(reps)\n",
    "if reps <= 10000:\n",
    "    bins = int(reps/100)\n",
    "else:\n",
    "    bins = int(reps/10000)\n",
    "\n",
    "for i in range(1, reps):\n",
    "    theta[i] = random.randint(1, 6, 100).mean()\n",
    "\n",
    "plt.figure(figsize = (8, 6))\n",
    "plt.hist(theta, color='blue', density=True, bins=bins)\n",
    "plt.xlim(2, 4)\n",
    "#plt.ylim(0, 0.5)\n",
    "plt.title('Visualizing the Central Limit Theorem', fontsize = 20)\n",
    "plt.xlabel('Support', fontsize = 16)\n",
    "plt.ylabel('Probability', fontsize = 16)"
   ]
  },
  {
   "cell_type": "code",
   "execution_count": null,
   "metadata": {},
   "outputs": [],
   "source": [
    "x = np.linspace(-3, 3, 1000)\n",
    "pdf = np.exp(-0.5 * x ** 2) / np.sqrt(2 * np.pi)\n",
    "\n",
    "plt.figure(figsize = (8, 6))\n",
    "plt.plot(x, pdf, 'b')\n",
    "plt.xlabel('Support', fontsize = 16)\n",
    "plt.ylabel('Probability', fontsize = 16)\n",
    "plt.ylim((0,.5))\n",
    "plt.title(r'Standard Normal or Gaussian', fontsize = 20)"
   ]
  },
  {
   "cell_type": "code",
   "execution_count": null,
   "metadata": {},
   "outputs": [],
   "source": [
    "plt.figure(figsize = (8, 6))\n",
    "plt.plot(x, pdf, 'b')\n",
    "plt.xlabel('Support', fontsize = 16)\n",
    "plt.ylabel('Probability', fontsize = 16)\n",
    "plt.ylim((0,.5))\n",
    "plt.title(r'Rejection Regions for $\\alpha=0.05$', fontsize = 20)\n",
    "plt.axvline(-1.96, color='r', ls='--', lw=2.0)\n",
    "plt.axvline(1.96, color='r', ls='--', lw=2.0)"
   ]
  },
  {
   "cell_type": "code",
   "execution_count": null,
   "metadata": {},
   "outputs": [],
   "source": [
    "plt.figure(figsize = (8, 6))\n",
    "plt.plot(x, pdf, 'b')\n",
    "plt.xlabel('Support', fontsize = 16)\n",
    "plt.ylabel('Probability', fontsize = 16)\n",
    "plt.ylim((0,.5))\n",
    "plt.title(r'Rejection Regions for $\\alpha=0.01$', fontsize = 20)\n",
    "plt.axvline(-2.33, color='r', ls='--', lw=2.0)\n",
    "plt.axvline(2.33, color='r', ls='--', lw=2.0)"
   ]
  },
  {
   "cell_type": "markdown",
   "metadata": {},
   "source": [
    "### Summary: Equivalent Statements\n",
    "\n",
    "Consider the following general hypothesis formulation.  \n",
    "\n",
    "$H_0$ : $\\theta=\\theta_0$\n",
    "\n",
    "$H_1$ : $\\theta\\neq\\theta_0$\n",
    "\n",
    "Let $SE(\\hat\\theta)$ denote the standard error of the point estimate of $\\theta$.  These are equivalent statements.\n",
    "\n",
    "1.  $\\displaystyle{\\frac{\\hat\\theta-\\theta_0}{SE(\\hat\\theta)}}>\\vert1.96\\vert$ implies a rejection of $H_0$ at a 95% level of confidence.  \n",
    "2. $\\big\\vert$t-stat$\\big\\vert$ in excess of 1.96 implies $\\hat\\theta$ is statistically different than $\\theta_0$.  (Rule of thumb, greater than 2 in absolute value.)\n",
    "3. $\\hat\\theta\\pm 1.96\\cdot SE(\\hat\\theta)$ constitutes at 95% confidence interval around $\\hat\\theta$.  If this interval includes $\\theta_0$, fail to reject $H_0$.\n",
    "\n",
    "\n",
    "#### Basic Rule of Thumb:\n",
    "* If $H_0: \\theta_0=0$, the basic"
   ]
  },
  {
   "cell_type": "markdown",
   "metadata": {},
   "source": [
    "# Introduction to Bivariate Linear Regression"
   ]
  },
  {
   "cell_type": "markdown",
   "metadata": {},
   "source": [
    "## Background"
   ]
  },
  {
   "cell_type": "markdown",
   "metadata": {},
   "source": [
    "We begin with a simple but straightforward approach for supervised learning: the bivariate linear model.  Why do we start with something so \"unsexy\"?  Some thoughts:\n",
    "\n",
    "1. Linear regression remains a useful and powerful tool for statistical learning and prediction.  It has been around for a very long time and is the topic of a multitude of textbooks.  \n",
    "\n",
    "2. It serves as a useful place to start as we build our toolkit of applied statistical learning techniques.  Indeed, many of the tools we will talk about are generalizations of linear regression, so a thorough understanding of it is important.\n",
    "\n",
    "3. The linear model can be expressed as a optimization problem with a closed-form solution, which makes it computationally tractible.  (You could do it by hand if you had to.)\n",
    "\n",
    "4. Empirical studies that are focused less on prediction and more on measuring the impact of a change in a feature on some outcome of interest still dominate policy-making.  Indeally, policy-makers are interested in evaluating the impact of, say, an additional year of education on wages when making policy about subsidizing education.  Is the effect different than zero?  If so, is it large and accurately measured?  Is the effect the same over different ages or cohorts?\n",
    "\n",
    "5. A linear model is a first-order Taylor approximation to a higher-order relation.  In the days of expensive computing, we convinced ourselves that so-called \"higher order terms\" or \"HOT\" were not interesting or relevant.  (We know that's not the case now.)  Besides, many of the obstacles we face in accurate statistical learning, such as omitted variable bias, impact our entire toolkit, including linear models."
   ]
  },
  {
   "cell_type": "markdown",
   "metadata": {},
   "source": [
    "## A Very Brief History\n",
    "\n",
    "For succinct discussions, see https://www.utdallas.edu/~herve/Abdi-LeastSquares06-pretty.pdf and http://www.amstat.org/publications/jse/v9n3/stanton.html.\n",
    "\n",
    "Highlights: \n",
    "\n",
    "1. In the early 1800's, mathematicians Gauss and Legendre published on the Method of Least Squares.  (Gauss claims he was there first in the late 1700's.)  \n",
    "\n",
    "2. Galton published actual empirical work in 1886.\n",
    "\n",
    "3. The Bayesian/frequentist schism regarding the interpretation of statistics commences with the work of Fisher, Neyman, and the Pearsons in 1920's (to which we will return).\n",
    "\n",
    "3. One of the first complete textbooks that I know of is Edward Malinvaud, Statistical Methods of Econometrics, Rand McNally & Company, 1966."
   ]
  },
  {
   "cell_type": "markdown",
   "metadata": {},
   "source": [
    "## An Explanatory Model (Supervised Learning)"
   ]
  },
  {
   "cell_type": "markdown",
   "metadata": {},
   "source": [
    "Consider the follow relation: $y=f(x)$.\n",
    "\n",
    "$x$ has several different names: \n",
    "1. an explanatory variable\n",
    "2. a predictor\n",
    "3. a feature\n",
    "\n",
    "$y$ is a quantitative response, which also has several different names:\n",
    "1. a dependent variable\n",
    "2. an outcome\n",
    "3. a label\n",
    "\n",
    "$f$ is a mapping from $x$ to $y$ that captures the relation between the two.  It could be linear, non-linear, or discontinuous.  The nature of $f$ is the supervision we provide the computer in machine learning.  To begin with, we instruct the computer that $f$ is linear.  Namely,\n",
    "\n",
    "$y=\\beta_0 + \\beta_1 \\cdot x$"
   ]
  },
  {
   "cell_type": "code",
   "execution_count": null,
   "metadata": {},
   "outputs": [],
   "source": [
    "%pylab inline\n",
    "import numpy as np\n",
    "import matplotlib.pyplot as plt\n",
    "import matplotlib.cm as cm\n",
    "import seaborn as sns\n",
    "sns.set(context='notebook', style='whitegrid', palette='deep', font='sans-serif', font_scale=1, rc=None)\n",
    "from mpl_toolkits.mplot3d import Axes3D\n",
    "from scipy.optimize import minimize"
   ]
  },
  {
   "cell_type": "code",
   "execution_count": null,
   "metadata": {},
   "outputs": [],
   "source": [
    "x = linspace(-10, 10, 1000)\n",
    "y = 1 + 2 * x\n",
    "\n",
    "plt.figure(figsize = (8, 6))\n",
    "plt.scatter(x=x, y=y)\n",
    "plt.xlim(-10,10)\n",
    "plt.title(r'A Line, $\\beta_0=1$ and $\\beta_1=2$', fontsize=20)\n",
    "plt.xlabel(r'$x$', fontsize = 16)\n",
    "plt.ylabel(r'$y$', fontsize = 16)\n",
    "plt.axvline(0, color='r', ls='--', lw=2.0)\n",
    "plt.axhline(0, color='r', ls='--', lw=2.0)"
   ]
  },
  {
   "cell_type": "markdown",
   "metadata": {},
   "source": [
    "This line is an abstraction that **allows us to focus**.  We do not expect from any real-world data that every possible pair $(x, y)$ to lie on this line.  Therefore, we summarize our ignorance in a fudge factor, namely:\n",
    "\n",
    "$y=\\beta_0 + \\beta_1 \\cdot x + \\epsilon$\n",
    "\n",
    "What does the $\\epsilon$ capture?\n",
    "\n",
    "1. It captures the combined effect of other features that we may or may not know.\n",
    "2. It captures the approximation error (or higher order terms).\n",
    "3. It captures the purely random component that exists at the level of an individual observation in data (i.e., fundamental unpredictabilty).  \n",
    "\n",
    "If we have a dataset of size $i=(1,...,N)$, we can write the model as:\n",
    "\n",
    "$y_i=\\beta_0 + \\beta_1 \\cdot x_i + \\epsilon_i$\n",
    "\n",
    "And this returns us to a scatterplot.\n",
    "\n",
    "** The scatterplot is all we truly have in applied data science.**"
   ]
  },
  {
   "cell_type": "code",
   "execution_count": null,
   "metadata": {},
   "outputs": [],
   "source": [
    "x = linspace(-10, 10, 10)\n",
    "y = 1 + 2 * x + np.random.normal(0, 10, 10)\n",
    "\n",
    "plt.figure(figsize = (8, 6))\n",
    "plt.scatter(x=x, y=y)\n",
    "plt.xlim(-10,10)\n",
    "plt.ylim(-30,30)\n",
    "plt.title(r'Return to a Scatter Plot', fontsize=20)\n",
    "plt.xlabel(r'$x$', fontsize = 16)\n",
    "plt.ylabel(r'$y$', fontsize = 16)\n",
    "plt.axvline(0, color='r', ls='--', lw=2.0)\n",
    "plt.axhline(0, color='r', ls='--', lw=2.0)"
   ]
  },
  {
   "cell_type": "markdown",
   "metadata": {},
   "source": [
    "## Optimization and the Sum of Squared Residuals"
   ]
  },
  {
   "cell_type": "markdown",
   "metadata": {},
   "source": [
    "Now, in the real world, we start with the data.  Suppose we use a supervised linear model.  How best to fit those data?  We can imbed this into an optimization problem, namely the minimization of a convex surface, applying the principle of least squares.\n",
    "\n",
    "Denote $\\epsilon_i$ to be a residual.  Define the following convex surface, the sum of squared residuals:\n",
    "\n",
    "$SSR(\\beta_0,\\beta_1) = \\sum_i \\epsilon_i^2=\\sum_i \\left(y_i-\\beta_0 - \\beta_1 \\cdot x_i\\right)^2$\n",
    "\n",
    "The goal is to minimize the SSR with respect to $\\beta_0$ and $\\beta_1$.  That is, choose $\\hat\\beta_0$ and $\\hat\\beta_1$ such that $SSR(\\hat\\beta_0, \\hat\\beta_1$) is minimized.\n",
    "\n",
    "How does this SSR surface appear?\n",
    "\n",
    "#### Notes\n",
    "* This is a conceptual SSR surface.\n",
    "* Increase the first argument in ax.view.init() to provide a different perspective."
   ]
  },
  {
   "cell_type": "code",
   "execution_count": null,
   "metadata": {},
   "outputs": [],
   "source": [
    "b0 = linspace(-10, 10, 100)\n",
    "b1 = linspace(-10, 10, 100)\n",
    "b0, b1 = meshgrid(b0, b1)\n",
    "rss = -1 * (-2 * b0**2 - b1**2 + b0 + b1 - 100)\n",
    "\n",
    "fig = plt.figure(figsize = (8, 6))\n",
    "ax = Axes3D(fig)\n",
    "ax.plot_wireframe(b0, b1, rss, rstride=4, cstride=4, color='#AD5300')\n",
    "ax.view_init(20, 40)\n",
    "ax.set_title('A Conceptual SSR Surface', fontsize=20)\n",
    "ax.set_xlabel(r'$\\beta_0$', fontsize = 16)\n",
    "ax.set_ylabel(r'$\\beta_1$', fontsize = 16)\n",
    "ax.set_zlabel(r'$SSR(\\beta_0, \\beta_1)$', fontsize = 16)"
   ]
  },
  {
   "cell_type": "markdown",
   "metadata": {},
   "source": [
    "### Optimization"
   ]
  },
  {
   "cell_type": "markdown",
   "metadata": {},
   "source": [
    "Let $\\overline{x}=\\frac{1}{N}\\sum_i x_i$ be the sample mean of x and $\\overline{y}=\\frac{1}{N}\\sum_i y_i$ be the sample mean of y.  Some calculus and algebraic manipulation yields the following:\n",
    "\n",
    "$\\hat\\beta_1 = \\displaystyle{\\frac{\\sum_i(y_i-\\overline{y})(x_i-\\overline{x})}{\\sum_i(x_i-\\overline{x})^2} = \\frac{Cov(x,y)}{Var(x)}}$\n",
    "\n",
    "$\\hat\\beta_0 = \\overline{y} - \\hat\\beta_1 \\cdot \\overline{x} \\rightarrow \\overline{y}=\\hat\\beta_0 +  \\hat\\beta_1 \\cdot \\overline{x}$"
   ]
  },
  {
   "cell_type": "markdown",
   "metadata": {},
   "source": [
    "### Linear regression (or \"least squares\") as a minimization problem"
   ]
  },
  {
   "cell_type": "markdown",
   "metadata": {},
   "source": [
    "#### Notes\n",
    "\n",
    "* Let's generate some fake data.  \n",
    "* obs is number of observations.\n",
    "* params is the number of parameters to be estimated ignoring the constant.  \n",
    "* It is adjusted to include a constant using statsmodels \"add_constant\".  "
   ]
  },
  {
   "cell_type": "code",
   "execution_count": null,
   "metadata": {},
   "outputs": [],
   "source": [
    "import numpy as np\n",
    "import pandas as pd\n",
    "import statsmodels.formula.api as smf\n",
    "import statsmodels.api as sm\n",
    "from scipy.optimize import minimize"
   ]
  },
  {
   "cell_type": "code",
   "execution_count": null,
   "metadata": {},
   "outputs": [],
   "source": [
    "obs = 1000\n",
    "params = 1\n",
    "random.seed(1898)\n",
    "\n",
    "params = params + 1\n",
    "beta = np.random.randn(params, 1)\n",
    "beta0 = np.zeros((params, 1))\n",
    "X = np.random.randn(obs, params-1)\n",
    "X = sm.add_constant(X)\n",
    "y = np.dot(X, beta) + np.random.randn(obs, 1)"
   ]
  },
  {
   "cell_type": "markdown",
   "metadata": {},
   "source": [
    "#### Notes\n",
    "* This is the linear model, $y_i = \\beta_0 + \\beta_1 x_i + \\epsilon_i$, to be estimated using least squares by minimization of the SSR. \n",
    "* This optimization code should look somewhat familiar.  \n",
    "* **Focus on the results, not the code.**\n",
    "* We will use the method of Monte Carlo: generate data from a **known** model and then apply least squares.\n",
    "* Evaluate how least squares performs against the truth."
   ]
  },
  {
   "cell_type": "code",
   "execution_count": null,
   "metadata": {},
   "outputs": [],
   "source": [
    "def func(b, y, X, obs, params):\n",
    "    bv = b.view()\n",
    "    bv.shape = params, 1\n",
    "    e = y - np.dot(X, bv)\n",
    "    return np.array(np.sum(e**2))\n",
    "\n",
    "def func_grad(b, y, X, obs, params):\n",
    "    bv = b.view()\n",
    "    bv.shape = params, 1\n",
    "    foc = -np.sum(X * (y - np.dot(X, bv)), axis=0)\n",
    "    return np.array(foc)\n",
    "\n",
    "res = minimize(func, beta0, args=(y, X, obs, params), method='BFGS', \n",
    "               jac=func_grad, options={'disp': True, 'maxiter':1000})"
   ]
  },
  {
   "cell_type": "code",
   "execution_count": null,
   "metadata": {},
   "outputs": [],
   "source": [
    "betahat = res.x.reshape((params, 1))\n",
    "e = y - np.dot(X, betahat)\n",
    "s2 = np.dot(np.transpose(e), e)/(obs - params)\n",
    "cov = s2*res.hess_inv\n",
    "\n",
    "se, t = np.zeros((params, 1)), np.zeros((params, 1))\n",
    "\n",
    "for i in range(0, params):\n",
    "    se[i] = np.sqrt(cov[i,i])\n",
    "    t[i] = res.x[i]/np.sqrt(cov[i,i])"
   ]
  },
  {
   "cell_type": "code",
   "execution_count": null,
   "metadata": {},
   "outputs": [],
   "source": [
    "print(\"The true values are\", beta)\n",
    "print(\"The fitted values are\", betahat)\n",
    "print(\"The standard errors are\", se)\n",
    "print(\"The t-stats are\", t)"
   ]
  },
  {
   "cell_type": "markdown",
   "metadata": {},
   "source": [
    "### Minimization Exercise\n",
    "\n",
    "The Python code above expresses the bivariate model as a minimization problem.  Run the code a few times to demonstrate that the model minimizes without any issues.  For example, increase the sample size.  What happens to the t-statistics as the sample size grows?"
   ]
  },
  {
   "cell_type": "code",
   "execution_count": null,
   "metadata": {},
   "outputs": [],
   "source": [
    "obs = 100000\n",
    "params = 1\n",
    "random.seed(1898)\n",
    "\n",
    "params = params + 1\n",
    "beta = np.random.randn(params, 1)\n",
    "beta0 = np.zeros((params, 1))\n",
    "X = np.random.randn(obs, params-1)\n",
    "X = sm.add_constant(X)\n",
    "y = np.dot(X, beta) + np.random.randn(obs, 1)"
   ]
  },
  {
   "cell_type": "code",
   "execution_count": null,
   "metadata": {},
   "outputs": [],
   "source": [
    "def func(b, y, X, obs, params):\n",
    "    bv = b.view()\n",
    "    bv.shape = params, 1\n",
    "    e = y - np.dot(X, bv)\n",
    "    return np.array(np.sum(e**2))\n",
    "\n",
    "def func_grad(b, y, X, obs, params):\n",
    "    bv = b.view()\n",
    "    bv.shape = params, 1\n",
    "    foc = -np.sum(X * (y - np.dot(X, bv)), axis=0)\n",
    "    return np.array(foc)\n",
    "\n",
    "res = minimize(func, beta0, args=(y, X, obs, params), method='BFGS', \n",
    "               jac=func_grad, options={'disp': True, 'maxiter':1000})"
   ]
  },
  {
   "cell_type": "code",
   "execution_count": null,
   "metadata": {},
   "outputs": [],
   "source": [
    "betahat = res.x.reshape((params, 1))\n",
    "e = y - np.dot(X, betahat)\n",
    "s2 = np.dot(np.transpose(e), e)/(obs - params)\n",
    "cov = s2*res.hess_inv\n",
    "\n",
    "se, t = np.zeros((params, 1)), np.zeros((params, 1))\n",
    "\n",
    "for i in range(0, params):\n",
    "    se[i] = np.sqrt(cov[i,i])\n",
    "    t[i] = res.x[i]/np.sqrt(cov[i,i])"
   ]
  },
  {
   "cell_type": "code",
   "execution_count": null,
   "metadata": {},
   "outputs": [],
   "source": [
    "print(\"The true values are\", beta)\n",
    "print(\"The fitted values are\", betahat)\n",
    "print(\"The standard errors are\", se)\n",
    "print(\"The t-stats are\", t)"
   ]
  },
  {
   "cell_type": "markdown",
   "metadata": {},
   "source": [
    "### Let's Get Real: Make the Machine Do It!  \n",
    "* Back to R"
   ]
  },
  {
   "cell_type": "markdown",
   "metadata": {},
   "source": [
    "## An Application: The Capital Asset Pricing Model (CAPM)"
   ]
  },
  {
   "cell_type": "markdown",
   "metadata": {},
   "source": [
    "CAPM remains one of the workhorse statistical models in finance.  It is so common that sites like Yahoo!Finance report the measures we will estimate statistically.  \n",
    "\n",
    "**I use CAPM for a reason: absent experimental data, it is the only application of the bivariate linear model that I believe has validity in the real world.**\n",
    "\n",
    "The upshot of the CAPM says that we can directly interpret the intercept and slope coefficients as real-world measures relating the excess (or risk-adjusted) returns of a particular stock to those of a basket of stocks, such as a specific market."
   ]
  },
  {
   "cell_type": "markdown",
   "metadata": {},
   "source": [
    "It lies at the heart of portfolio optimization that won Harry Markowitz a Nobel Prize in Economics in 1990. The idea is simple: we seek to measure historic correlation patterns between potential investment opportunities.\n",
    "\n",
    "It was developed to examine equities, but its application have expanded far beyond this asset class.  As part of the broader undertaking of portfolio optimization, it is used to explain most core concepts.\n",
    "\n",
    "Asset Classes:\n",
    "* Cash\n",
    "* Bonds\n",
    "* Equities\n",
    "* Real Estate\n",
    "\n",
    "Until recently, it was difficult for non-instititutional investors to have exposure to real estate, other than owning a house.  Investors can now expose themselves to real estate as an asset class.\n",
    "\n",
    "To be more mathematically precise, let $X$ and $Y$ be random variables with finite variances, $\\sigma^2_x$ and $\\sigma^2_y$.  Consider some convex combination of $X$ and $Y$, $\\alpha X + (1-\\alpha) Y$.  This combination is a portfolio.  The variance of this portfolio, which is a measure of risk, is:\n",
    "\n",
    "$Var(\\alpha X + (1-\\alpha) Y) = \\alpha^2 \\sigma^2_x + (1-\\alpha^2) \\sigma^2_y + 2\\alpha (1 -\\alpha) Cov(X, Y)$\n",
    "\n",
    "This variance is driven essentially by $\\alpha$ and $Cov(X, Y)$. \n",
    "\n",
    "* Risk can be eliminated only when $Cov(X, Y) = -1$ or $1$.  This is accomplished through shorting.\n",
    "* With imperfect correlation, the focus becomes $\\alpha$.\n",
    "* Hence, we have Markowitz's Mean/Variance model.\n",
    "* Let $X_i$ denote asset $i$.\n",
    "* Let $w_i$ be an asset allocation weight.\n",
    "* Let the portfolio be denoted as P, $P = \\sum_i{w_i X_i}$\n",
    "\n",
    "There is considerable theory around minimizing the risk of P for a given return based on the above.  From this theory is straightforward to derive the CAPM (but such derivation is beyond the scope of this class)."
   ]
  },
  {
   "cell_type": "markdown",
   "metadata": {},
   "source": [
    "### CAPM: Regression and Hypothesis Testing"
   ]
  },
  {
   "cell_type": "markdown",
   "metadata": {},
   "source": [
    "Let $r_i$ denote the rate of return to asset $i$, $r_f$ denote the known rate of return on a risk-free asset (for example, short-term US government debt), and $r_m$ denote the rate of return to a portfolio (or a market) that includes $i$.  \n",
    "\n",
    "The following equation can be derived:\n",
    "\n",
    "$E(r_i)-r_f = \\alpha + \\beta \\cdot (E(r_m)-r_f)$\n",
    "\n",
    "Here, $E(\\cdot)$ denotes an expected value (because this is a forward-looking prediction).  In CAPM, $\\beta$ captures the sensitivity of an asset’s returns to the returns to a portfolio or to the market on which an asset trades.  In other words, it non-diversifiable risk.  In addition, $\\alpha$ measures an asset $i$’s excess (or abnormal) returns.\n",
    "\n",
    "Phrases you may have heard: \n",
    "\n",
    "1. The stock's beta is high\n",
    "2. The hedge fund is chasing alpha"
   ]
  },
  {
   "cell_type": "markdown",
   "metadata": {},
   "source": [
    "Formally, we can express our conjecture as a joint hypothesis:\n",
    "\n",
    "$H_0: \\alpha = 0, \\beta=1$\n",
    "\n",
    "$H_1: \\text{ not }H_0$"
   ]
  },
  {
   "cell_type": "markdown",
   "metadata": {},
   "source": [
    "### Let's Look at the Obvious: I Often Teach in a Sea of These"
   ]
  },
  {
   "cell_type": "code",
   "execution_count": null,
   "metadata": {},
   "outputs": [],
   "source": [
    "%pylab inline\n",
    "from PIL import Image\n",
    "import urllib.request as url\n",
    "import io\n",
    "\n",
    "fd = url.urlopen(\"http://buzzmybiz.co/wp-content/uploads/2012/06/apple-logo.jpg\")\n",
    "image_file = io.BytesIO(fd.read())\n",
    "Image.open(image_file)"
   ]
  }
 ],
 "metadata": {
  "kernelspec": {
   "display_name": "Python 3",
   "language": "python",
   "name": "python3"
  },
  "language_info": {
   "codemirror_mode": {
    "name": "ipython",
    "version": 3
   },
   "file_extension": ".py",
   "mimetype": "text/x-python",
   "name": "python",
   "nbconvert_exporter": "python",
   "pygments_lexer": "ipython3",
   "version": "3.7.0"
  }
 },
 "nbformat": 4,
 "nbformat_minor": 1
}
